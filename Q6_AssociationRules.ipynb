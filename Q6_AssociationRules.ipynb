{
 "cells": [
  {
   "cell_type": "markdown",
   "id": "86b7abe7",
   "metadata": {
    "id": "86b7abe7"
   },
   "source": [
    "## Question 6: Association Rules - BAKERY\n",
    "-  Use dataset 75000 (select one file in this folder that is suitable for you) to build the model to identify sets of items that are frequently bought together (In both two cases: use Id and use Flavor and Food name (in goods.csv)).\n",
    "- Read more information here: http://users.csc.calpoly.edu/~dekhtyar/466-Spring2018/labs/lab01.html"
   ]
  },
  {
   "cell_type": "markdown",
   "id": "VLpEiR3YIX1h",
   "metadata": {
    "id": "VLpEiR3YIX1h"
   },
   "source": [
    "# 0.Working environment preparation & Package import"
   ]
  },
  {
   "cell_type": "code",
   "execution_count": 1,
   "id": "c3778bc2",
   "metadata": {
    "colab": {
     "base_uri": "https://localhost:8080/"
    },
    "executionInfo": {
     "elapsed": 4929,
     "status": "ok",
     "timestamp": 1642749210389,
     "user": {
      "displayName": "Phuong Dam",
      "photoUrl": "https://lh3.googleusercontent.com/a/default-user=s64",
      "userId": "01072403895711103873"
     },
     "user_tz": -420
    },
    "id": "c3778bc2",
    "outputId": "69176ae7-3608-4382-802f-50dc445a5789"
   },
   "outputs": [],
   "source": [
    "# !apt-get update"
   ]
  },
  {
   "cell_type": "code",
   "execution_count": 2,
   "id": "5a420e73",
   "metadata": {
    "colab": {
     "base_uri": "https://localhost:8080/"
    },
    "executionInfo": {
     "elapsed": 45873,
     "status": "ok",
     "timestamp": 1642749256259,
     "user": {
      "displayName": "Phuong Dam",
      "photoUrl": "https://lh3.googleusercontent.com/a/default-user=s64",
      "userId": "01072403895711103873"
     },
     "user_tz": -420
    },
    "id": "5a420e73",
    "outputId": "e5eb1c60-f292-4c38-9bbb-3e617357812e"
   },
   "outputs": [],
   "source": [
    "# !apt-get install openjdk-8-jdk-headless -qq > /dev/null\n",
    "# !wget -q http://archive.apache.org/dist/spark/spark-2.4.0/spark-2.4.0-bin-hadoop2.7.tgz\n",
    "# !tar -xvf spark-2.4.0-bin-hadoop2.7.tgz\n",
    "# !pip install -q findspark\n",
    "# import os\n",
    "# os.environ[\"JAVA_HOME\"] = \"/usr/lib/jvm/java-8-openjdk-amd64\"\n",
    "# os.environ[\"SPARK_HOME\"] = \"/content/spark-2.4.0-bin-hadoop2.7\""
   ]
  },
  {
   "cell_type": "code",
   "execution_count": 3,
   "id": "854166ef",
   "metadata": {
    "colab": {
     "base_uri": "https://localhost:8080/"
    },
    "executionInfo": {
     "elapsed": 16148,
     "status": "ok",
     "timestamp": 1642749272400,
     "user": {
      "displayName": "Phuong Dam",
      "photoUrl": "https://lh3.googleusercontent.com/a/default-user=s64",
      "userId": "01072403895711103873"
     },
     "user_tz": -420
    },
    "id": "854166ef",
    "outputId": "16bff4d3-2a8c-4d2b-94d5-802a02699ebe"
   },
   "outputs": [],
   "source": [
    "# from google.colab import drive\n",
    "# drive.mount('/content/gdrive', force_remount=True)"
   ]
  },
  {
   "cell_type": "code",
   "execution_count": 4,
   "id": "ae87bb3a",
   "metadata": {
    "colab": {
     "base_uri": "https://localhost:8080/"
    },
    "executionInfo": {
     "elapsed": 10,
     "status": "ok",
     "timestamp": 1642749272401,
     "user": {
      "displayName": "Phuong Dam",
      "photoUrl": "https://lh3.googleusercontent.com/a/default-user=s64",
      "userId": "01072403895711103873"
     },
     "user_tz": -420
    },
    "id": "ae87bb3a",
    "outputId": "938032dc-13e6-4bc3-f28a-15421948c6df"
   },
   "outputs": [],
   "source": [
    "# %cd \"/content/gdrive/MyDrive/LDS9_K272_ONLINE_DamThiMinhPhuong/LDS9_K272_DamThiMinhPhuong_Cuoi_ky\""
   ]
  },
  {
   "cell_type": "code",
   "execution_count": 5,
   "id": "84e5a85e",
   "metadata": {
    "executionInfo": {
     "elapsed": 697,
     "status": "ok",
     "timestamp": 1642749273092,
     "user": {
      "displayName": "Phuong Dam",
      "photoUrl": "https://lh3.googleusercontent.com/a/default-user=s64",
      "userId": "01072403895711103873"
     },
     "user_tz": -420
    },
    "id": "84e5a85e"
   },
   "outputs": [],
   "source": [
    "import findspark\n",
    "findspark.init()\n",
    "from pyspark import SparkContext\n",
    "from pyspark.conf import SparkConf\n",
    "from pyspark.sql import SparkSession"
   ]
  },
  {
   "cell_type": "code",
   "execution_count": 6,
   "id": "6c13090a",
   "metadata": {
    "executionInfo": {
     "elapsed": 9,
     "status": "ok",
     "timestamp": 1642749273092,
     "user": {
      "displayName": "Phuong Dam",
      "photoUrl": "https://lh3.googleusercontent.com/a/default-user=s64",
      "userId": "01072403895711103873"
     },
     "user_tz": -420
    },
    "id": "6c13090a"
   },
   "outputs": [],
   "source": [
    "import pandas as pd\n",
    "from pyspark.sql.functions import *\n",
    "from pyspark.sql.types import *\n",
    "from pyspark.ml.fpm import FPGrowth"
   ]
  },
  {
   "cell_type": "code",
   "execution_count": 7,
   "id": "abc64ff8",
   "metadata": {
    "executionInfo": {
     "elapsed": 4908,
     "status": "ok",
     "timestamp": 1642749277996,
     "user": {
      "displayName": "Phuong Dam",
      "photoUrl": "https://lh3.googleusercontent.com/a/default-user=s64",
      "userId": "01072403895711103873"
     },
     "user_tz": -420
    },
    "id": "abc64ff8"
   },
   "outputs": [
    {
     "name": "stderr",
     "output_type": "stream",
     "text": [
      "Using Spark's default log4j profile: org/apache/spark/log4j-defaults.properties\n",
      "Setting default log level to \"WARN\".\n",
      "To adjust logging level use sc.setLogLevel(newLevel). For SparkR, use setLogLevel(newLevel).\n",
      "22/01/21 17:33:47 WARN NativeCodeLoader: Unable to load native-hadoop library for your platform... using builtin-java classes where applicable\n"
     ]
    }
   ],
   "source": [
    "spark = SparkSession.builder.appName('Q6_association_rules').getOrCreate()"
   ]
  },
  {
   "cell_type": "markdown",
   "id": "67551bdf",
   "metadata": {
    "id": "67551bdf"
   },
   "source": [
    "# 1. Data preprocessing"
   ]
  },
  {
   "cell_type": "code",
   "execution_count": 8,
   "id": "ca9a0174",
   "metadata": {
    "colab": {
     "base_uri": "https://localhost:8080/"
    },
    "executionInfo": {
     "elapsed": 302,
     "status": "ok",
     "timestamp": 1642749329127,
     "user": {
      "displayName": "Phuong Dam",
      "photoUrl": "https://lh3.googleusercontent.com/a/default-user=s64",
      "userId": "01072403895711103873"
     },
     "user_tz": -420
    },
    "id": "ca9a0174",
    "outputId": "c0e1bba2-06a4-4172-9645-3825b5510c3f"
   },
   "outputs": [
    {
     "name": "stderr",
     "output_type": "stream",
     "text": [
      "/opt/homebrew/lib/python3.8/site-packages/pandas/util/_decorators.py:311: ParserWarning: Falling back to the 'python' engine because the 'c' engine does not support regex separators (separators > 1 char and different from '\\s+' are interpreted as regex); you can avoid this warning by specifying engine='python'.\n",
      "  return func(*args, **kwargs)\n"
     ]
    }
   ],
   "source": [
    "# Load data set 75000-out1.csv\n",
    "df = pd.read_csv('data/75000/75000-out1.csv', sep='delimiter', header=None)"
   ]
  },
  {
   "cell_type": "code",
   "execution_count": 9,
   "id": "fdd1bdc7",
   "metadata": {
    "colab": {
     "base_uri": "https://localhost:8080/",
     "height": 204
    },
    "executionInfo": {
     "elapsed": 491,
     "status": "ok",
     "timestamp": 1642749299166,
     "user": {
      "displayName": "Phuong Dam",
      "photoUrl": "https://lh3.googleusercontent.com/a/default-user=s64",
      "userId": "01072403895711103873"
     },
     "user_tz": -420
    },
    "id": "fdd1bdc7",
    "outputId": "a09749b8-bfda-479e-eef5-6da1decd1bec"
   },
   "outputs": [
    {
     "data": {
      "text/html": [
       "<div>\n",
       "<style scoped>\n",
       "    .dataframe tbody tr th:only-of-type {\n",
       "        vertical-align: middle;\n",
       "    }\n",
       "\n",
       "    .dataframe tbody tr th {\n",
       "        vertical-align: top;\n",
       "    }\n",
       "\n",
       "    .dataframe thead th {\n",
       "        text-align: right;\n",
       "    }\n",
       "</style>\n",
       "<table border=\"1\" class=\"dataframe\">\n",
       "  <thead>\n",
       "    <tr style=\"text-align: right;\">\n",
       "      <th></th>\n",
       "      <th>0</th>\n",
       "    </tr>\n",
       "  </thead>\n",
       "  <tbody>\n",
       "    <tr>\n",
       "      <th>0</th>\n",
       "      <td>1, 11, 21</td>\n",
       "    </tr>\n",
       "    <tr>\n",
       "      <th>1</th>\n",
       "      <td>2, 7, 11, 37, 45</td>\n",
       "    </tr>\n",
       "    <tr>\n",
       "      <th>2</th>\n",
       "      <td>3, 3, 33, 42</td>\n",
       "    </tr>\n",
       "    <tr>\n",
       "      <th>3</th>\n",
       "      <td>4, 5, 12, 17, 47</td>\n",
       "    </tr>\n",
       "    <tr>\n",
       "      <th>4</th>\n",
       "      <td>5, 6, 18, 42</td>\n",
       "    </tr>\n",
       "  </tbody>\n",
       "</table>\n",
       "</div>"
      ],
      "text/plain": [
       "                  0\n",
       "0         1, 11, 21\n",
       "1  2, 7, 11, 37, 45\n",
       "2      3, 3, 33, 42\n",
       "3  4, 5, 12, 17, 47\n",
       "4      5, 6, 18, 42"
      ]
     },
     "execution_count": 9,
     "metadata": {},
     "output_type": "execute_result"
    }
   ],
   "source": [
    "df.head()"
   ]
  },
  {
   "cell_type": "code",
   "execution_count": 10,
   "id": "978ae342",
   "metadata": {
    "executionInfo": {
     "elapsed": 376,
     "status": "ok",
     "timestamp": 1642749331948,
     "user": {
      "displayName": "Phuong Dam",
      "photoUrl": "https://lh3.googleusercontent.com/a/default-user=s64",
      "userId": "01072403895711103873"
     },
     "user_tz": -420
    },
    "id": "978ae342"
   },
   "outputs": [],
   "source": [
    "df['order_id'] = df.index + 1\n",
    "df.columns =['items', 'order_id']"
   ]
  },
  {
   "cell_type": "code",
   "execution_count": 11,
   "id": "157a0ad0",
   "metadata": {
    "colab": {
     "base_uri": "https://localhost:8080/",
     "height": 204
    },
    "executionInfo": {
     "elapsed": 6,
     "status": "ok",
     "timestamp": 1642749333195,
     "user": {
      "displayName": "Phuong Dam",
      "photoUrl": "https://lh3.googleusercontent.com/a/default-user=s64",
      "userId": "01072403895711103873"
     },
     "user_tz": -420
    },
    "id": "157a0ad0",
    "outputId": "1e82a926-35d9-4683-dfbd-540e318a6148"
   },
   "outputs": [
    {
     "data": {
      "text/html": [
       "<div>\n",
       "<style scoped>\n",
       "    .dataframe tbody tr th:only-of-type {\n",
       "        vertical-align: middle;\n",
       "    }\n",
       "\n",
       "    .dataframe tbody tr th {\n",
       "        vertical-align: top;\n",
       "    }\n",
       "\n",
       "    .dataframe thead th {\n",
       "        text-align: right;\n",
       "    }\n",
       "</style>\n",
       "<table border=\"1\" class=\"dataframe\">\n",
       "  <thead>\n",
       "    <tr style=\"text-align: right;\">\n",
       "      <th></th>\n",
       "      <th>items</th>\n",
       "      <th>order_id</th>\n",
       "    </tr>\n",
       "  </thead>\n",
       "  <tbody>\n",
       "    <tr>\n",
       "      <th>0</th>\n",
       "      <td>1, 11, 21</td>\n",
       "      <td>1</td>\n",
       "    </tr>\n",
       "    <tr>\n",
       "      <th>1</th>\n",
       "      <td>2, 7, 11, 37, 45</td>\n",
       "      <td>2</td>\n",
       "    </tr>\n",
       "    <tr>\n",
       "      <th>2</th>\n",
       "      <td>3, 3, 33, 42</td>\n",
       "      <td>3</td>\n",
       "    </tr>\n",
       "    <tr>\n",
       "      <th>3</th>\n",
       "      <td>4, 5, 12, 17, 47</td>\n",
       "      <td>4</td>\n",
       "    </tr>\n",
       "    <tr>\n",
       "      <th>4</th>\n",
       "      <td>5, 6, 18, 42</td>\n",
       "      <td>5</td>\n",
       "    </tr>\n",
       "  </tbody>\n",
       "</table>\n",
       "</div>"
      ],
      "text/plain": [
       "              items  order_id\n",
       "0         1, 11, 21         1\n",
       "1  2, 7, 11, 37, 45         2\n",
       "2      3, 3, 33, 42         3\n",
       "3  4, 5, 12, 17, 47         4\n",
       "4      5, 6, 18, 42         5"
      ]
     },
     "execution_count": 11,
     "metadata": {},
     "output_type": "execute_result"
    }
   ],
   "source": [
    "df.head()"
   ]
  },
  {
   "cell_type": "code",
   "execution_count": 12,
   "id": "ef887513",
   "metadata": {
    "executionInfo": {
     "elapsed": 515,
     "status": "ok",
     "timestamp": 1642749343523,
     "user": {
      "displayName": "Phuong Dam",
      "photoUrl": "https://lh3.googleusercontent.com/a/default-user=s64",
      "userId": "01072403895711103873"
     },
     "user_tz": -420
    },
    "id": "ef887513"
   },
   "outputs": [],
   "source": [
    "# Split string theo ',' -> đổi sang kiểu int -> list of int\n",
    "df['items'] = df['items'].apply(lambda x: list(map(int, x.split(','))))"
   ]
  },
  {
   "cell_type": "code",
   "execution_count": 13,
   "id": "Xs8Y5ozwilXD",
   "metadata": {
    "executionInfo": {
     "elapsed": 417,
     "status": "ok",
     "timestamp": 1642750202271,
     "user": {
      "displayName": "Phuong Dam",
      "photoUrl": "https://lh3.googleusercontent.com/a/default-user=s64",
      "userId": "01072403895711103873"
     },
     "user_tz": -420
    },
    "id": "Xs8Y5ozwilXD"
   },
   "outputs": [],
   "source": [
    "# Lấy unique (loại bỏ duplicated items)\n",
    "df['items'] = df['items'].apply(lambda x: list(set(x)))"
   ]
  },
  {
   "cell_type": "code",
   "execution_count": 14,
   "id": "7Kql99H0ilPl",
   "metadata": {
    "colab": {
     "base_uri": "https://localhost:8080/",
     "height": 204
    },
    "executionInfo": {
     "elapsed": 419,
     "status": "ok",
     "timestamp": 1642750209137,
     "user": {
      "displayName": "Phuong Dam",
      "photoUrl": "https://lh3.googleusercontent.com/a/default-user=s64",
      "userId": "01072403895711103873"
     },
     "user_tz": -420
    },
    "id": "7Kql99H0ilPl",
    "outputId": "d93be2be-3c8e-4d80-9ee5-fe06db7e59bc"
   },
   "outputs": [
    {
     "data": {
      "text/html": [
       "<div>\n",
       "<style scoped>\n",
       "    .dataframe tbody tr th:only-of-type {\n",
       "        vertical-align: middle;\n",
       "    }\n",
       "\n",
       "    .dataframe tbody tr th {\n",
       "        vertical-align: top;\n",
       "    }\n",
       "\n",
       "    .dataframe thead th {\n",
       "        text-align: right;\n",
       "    }\n",
       "</style>\n",
       "<table border=\"1\" class=\"dataframe\">\n",
       "  <thead>\n",
       "    <tr style=\"text-align: right;\">\n",
       "      <th></th>\n",
       "      <th>items</th>\n",
       "      <th>order_id</th>\n",
       "    </tr>\n",
       "  </thead>\n",
       "  <tbody>\n",
       "    <tr>\n",
       "      <th>0</th>\n",
       "      <td>[1, 11, 21]</td>\n",
       "      <td>1</td>\n",
       "    </tr>\n",
       "    <tr>\n",
       "      <th>1</th>\n",
       "      <td>[2, 37, 7, 11, 45]</td>\n",
       "      <td>2</td>\n",
       "    </tr>\n",
       "    <tr>\n",
       "      <th>2</th>\n",
       "      <td>[33, 42, 3]</td>\n",
       "      <td>3</td>\n",
       "    </tr>\n",
       "    <tr>\n",
       "      <th>3</th>\n",
       "      <td>[4, 5, 12, 47, 17]</td>\n",
       "      <td>4</td>\n",
       "    </tr>\n",
       "    <tr>\n",
       "      <th>4</th>\n",
       "      <td>[18, 42, 5, 6]</td>\n",
       "      <td>5</td>\n",
       "    </tr>\n",
       "  </tbody>\n",
       "</table>\n",
       "</div>"
      ],
      "text/plain": [
       "                items  order_id\n",
       "0         [1, 11, 21]         1\n",
       "1  [2, 37, 7, 11, 45]         2\n",
       "2         [33, 42, 3]         3\n",
       "3  [4, 5, 12, 47, 17]         4\n",
       "4      [18, 42, 5, 6]         5"
      ]
     },
     "execution_count": 14,
     "metadata": {},
     "output_type": "execute_result"
    }
   ],
   "source": [
    "df.head()"
   ]
  },
  {
   "cell_type": "code",
   "execution_count": 15,
   "id": "305ae093",
   "metadata": {
    "executionInfo": {
     "elapsed": 1099,
     "status": "ok",
     "timestamp": 1642750220359,
     "user": {
      "displayName": "Phuong Dam",
      "photoUrl": "https://lh3.googleusercontent.com/a/default-user=s64",
      "userId": "01072403895711103873"
     },
     "user_tz": -420
    },
    "id": "305ae093"
   },
   "outputs": [],
   "source": [
    "# convert pandas dataframe to pyspark dataframe\n",
    "df_schema = StructType([StructField(\"items\", ArrayType(elementType=IntegerType()), True)\\\n",
    "                       ,StructField(\"order_id\", IntegerType(), True)])\n",
    "data = spark.createDataFrame(df, schema=df_schema)"
   ]
  },
  {
   "cell_type": "code",
   "execution_count": 16,
   "id": "d5844208",
   "metadata": {
    "colab": {
     "base_uri": "https://localhost:8080/"
    },
    "executionInfo": {
     "elapsed": 426,
     "status": "ok",
     "timestamp": 1642750221875,
     "user": {
      "displayName": "Phuong Dam",
      "photoUrl": "https://lh3.googleusercontent.com/a/default-user=s64",
      "userId": "01072403895711103873"
     },
     "user_tz": -420
    },
    "id": "d5844208",
    "outputId": "915c3112-f386-412c-d490-bcd5d30f38ef"
   },
   "outputs": [
    {
     "name": "stderr",
     "output_type": "stream",
     "text": [
      "[Stage 0:>                                                          (0 + 1) / 1]\r"
     ]
    },
    {
     "name": "stdout",
     "output_type": "stream",
     "text": [
      "+------------------+--------+\n",
      "|             items|order_id|\n",
      "+------------------+--------+\n",
      "|       [1, 11, 21]|       1|\n",
      "|[2, 37, 7, 11, 45]|       2|\n",
      "|       [33, 42, 3]|       3|\n",
      "|[4, 5, 12, 47, 17]|       4|\n",
      "|    [18, 42, 5, 6]|       5|\n",
      "+------------------+--------+\n",
      "only showing top 5 rows\n",
      "\n"
     ]
    },
    {
     "name": "stderr",
     "output_type": "stream",
     "text": [
      "\r",
      "                                                                                \r"
     ]
    }
   ],
   "source": [
    "data.show(5)"
   ]
  },
  {
   "cell_type": "markdown",
   "id": "80492ea3",
   "metadata": {},
   "source": [
    "# 2. Build model "
   ]
  },
  {
   "cell_type": "markdown",
   "id": "c47e9f4f",
   "metadata": {},
   "source": [
    "## --- Use Id"
   ]
  },
  {
   "cell_type": "code",
   "execution_count": 17,
   "id": "83b9100e",
   "metadata": {
    "executionInfo": {
     "elapsed": 1049,
     "status": "ok",
     "timestamp": 1642750818663,
     "user": {
      "displayName": "Phuong Dam",
      "photoUrl": "https://lh3.googleusercontent.com/a/default-user=s64",
      "userId": "01072403895711103873"
     },
     "user_tz": -420
    },
    "id": "83b9100e"
   },
   "outputs": [
    {
     "name": "stderr",
     "output_type": "stream",
     "text": [
      "                                                                                \r"
     ]
    }
   ],
   "source": [
    "# Build model & fit\n",
    "fpGrowth = FPGrowth(itemsCol='items', minSupport=0.03, minConfidence=0.03)\n",
    "model = fpGrowth.fit(data)"
   ]
  },
  {
   "cell_type": "code",
   "execution_count": 18,
   "id": "3f7ed5b0",
   "metadata": {
    "colab": {
     "base_uri": "https://localhost:8080/"
    },
    "executionInfo": {
     "elapsed": 419,
     "status": "ok",
     "timestamp": 1642752145591,
     "user": {
      "displayName": "Phuong Dam",
      "photoUrl": "https://lh3.googleusercontent.com/a/default-user=s64",
      "userId": "01072403895711103873"
     },
     "user_tz": -420
    },
    "id": "3f7ed5b0",
    "outputId": "37cb52f2-3d23-4551-f9db-2a86e8b0a2a0"
   },
   "outputs": [
    {
     "name": "stderr",
     "output_type": "stream",
     "text": [
      "/Users/elliedam/spark/spark-3.2.0-bin-hadoop2.7/python/pyspark/sql/context.py:125: FutureWarning: Deprecated in 3.0.0. Use SparkSession.builder.getOrCreate() instead.\n",
      "  warnings.warn(\n",
      "[Stage 6:>                                                          (0 + 8) / 8]\r"
     ]
    },
    {
     "name": "stdout",
     "output_type": "stream",
     "text": [
      "+-----+----+\n",
      "|items|freq|\n",
      "+-----+----+\n",
      "|  [7]|8194|\n",
      "| [45]|7701|\n",
      "| [28]|7557|\n",
      "| [18]|6988|\n",
      "|  [4]|6949|\n",
      "| [35]|6944|\n",
      "| [42]|6872|\n",
      "| [22]|6784|\n",
      "| [27]|6734|\n",
      "| [14]|6363|\n",
      "+-----+----+\n",
      "only showing top 10 rows\n",
      "\n"
     ]
    },
    {
     "name": "stderr",
     "output_type": "stream",
     "text": [
      "\r",
      "                                                                                \r"
     ]
    }
   ],
   "source": [
    "# Get frequent items\n",
    "model.freqItemsets.sort('freq', ascending=False).show(10)"
   ]
  },
  {
   "cell_type": "code",
   "execution_count": 19,
   "id": "kDQtS3fQi4f4",
   "metadata": {
    "colab": {
     "base_uri": "https://localhost:8080/"
    },
    "executionInfo": {
     "elapsed": 729,
     "status": "ok",
     "timestamp": 1642750821790,
     "user": {
      "displayName": "Phuong Dam",
      "photoUrl": "https://lh3.googleusercontent.com/a/default-user=s64",
      "userId": "01072403895711103873"
     },
     "user_tz": -420
    },
    "id": "kDQtS3fQi4f4",
    "outputId": "001a8eec-2d64-430b-9ba4-1fbde8ae8e30"
   },
   "outputs": [
    {
     "name": "stderr",
     "output_type": "stream",
     "text": [
      "                                                                                \r"
     ]
    },
    {
     "name": "stdout",
     "output_type": "stream",
     "text": [
      "+--------+--------------------+--------------------+\n",
      "|order_id|               items|          prediction|\n",
      "+--------+--------------------+--------------------+\n",
      "|       1|         [1, 11, 21]|     [37, 45, 7, 19]|\n",
      "|       2|  [2, 37, 7, 11, 45]| [15, 46, 0, 32, 16]|\n",
      "|       3|         [33, 42, 3]|            [35, 18]|\n",
      "|       4|  [4, 5, 12, 47, 17]|             [9, 22]|\n",
      "|       5|      [18, 42, 5, 6]|     [33, 3, 35, 22]|\n",
      "|       6|       [2, 4, 34, 6]|          [9, 46, 0]|\n",
      "|       7| [7, 40, 15, 16, 23]|    [45, 37, 11, 32]|\n",
      "|       8|   [2, 3, 34, 8, 29]|     [35, 18, 46, 0]|\n",
      "|       9|[35, 36, 9, 18, 2...|              [3, 4]|\n",
      "|      10|        [10, 44, 45]|[14, 7, 32, 37, 1...|\n",
      "+--------+--------------------+--------------------+\n",
      "only showing top 10 rows\n",
      "\n"
     ]
    }
   ],
   "source": [
    "# Prediction\n",
    "predictions = model.transform(data)\n",
    "predictions.select('order_id', 'items', 'prediction').show(10)"
   ]
  },
  {
   "cell_type": "markdown",
   "id": "c1fe5a66",
   "metadata": {},
   "source": [
    "## --- Use Flavor and Food"
   ]
  },
  {
   "cell_type": "code",
   "execution_count": 20,
   "id": "65520ac2",
   "metadata": {},
   "outputs": [],
   "source": [
    "# Load dataset goods.csv\n",
    "product_data = spark.read.csv('data/75000/goods.csv',\n",
    "                             header=True,\n",
    "                             inferSchema=True)"
   ]
  },
  {
   "cell_type": "code",
   "execution_count": 21,
   "id": "HiAMlV3ni-Gk",
   "metadata": {
    "id": "HiAMlV3ni-Gk"
   },
   "outputs": [
    {
     "name": "stdout",
     "output_type": "stream",
     "text": [
      "+---+------------+------+-----+------+\n",
      "|Id |Flavor      |Food  |Price|Type  |\n",
      "+---+------------+------+-----+------+\n",
      "|0  |'Chocolate' |'Cake'|8.95 |'Food'|\n",
      "|1  |'Lemon'     |'Cake'|8.95 |'Food'|\n",
      "|2  |'Casino'    |'Cake'|15.95|'Food'|\n",
      "|3  |'Opera'     |'Cake'|15.95|'Food'|\n",
      "|4  |'Strawberry'|'Cake'|11.95|'Food'|\n",
      "+---+------------+------+-----+------+\n",
      "only showing top 5 rows\n",
      "\n"
     ]
    }
   ],
   "source": [
    "product_data.show(5, False)"
   ]
  },
  {
   "cell_type": "code",
   "execution_count": 22,
   "id": "c3b1ecf6",
   "metadata": {
    "scrolled": true
   },
   "outputs": [
    {
     "name": "stdout",
     "output_type": "stream",
     "text": [
      "root\n",
      " |-- Id: integer (nullable = true)\n",
      " |-- Flavor: string (nullable = true)\n",
      " |-- Food: string (nullable = true)\n",
      " |-- Price: double (nullable = true)\n",
      " |-- Type: string (nullable = true)\n",
      "\n"
     ]
    }
   ],
   "source": [
    "product_data.printSchema()"
   ]
  },
  {
   "cell_type": "code",
   "execution_count": 23,
   "id": "d5e47ea5",
   "metadata": {},
   "outputs": [],
   "source": [
    "# Combine 2 columns: Flavor, Food\n",
    "product_data = product_data.select('Id',concat(col(\"Flavor\"), lit(\" \"),col(\"Food\")).alias('Food_n_Flavor'))"
   ]
  },
  {
   "cell_type": "code",
   "execution_count": 24,
   "id": "849ea021",
   "metadata": {},
   "outputs": [
    {
     "name": "stdout",
     "output_type": "stream",
     "text": [
      "+---+-------------------+\n",
      "|Id |Food_n_Flavor      |\n",
      "+---+-------------------+\n",
      "|0  |'Chocolate' 'Cake' |\n",
      "|1  |'Lemon' 'Cake'     |\n",
      "|2  |'Casino' 'Cake'    |\n",
      "|3  |'Opera' 'Cake'     |\n",
      "|4  |'Strawberry' 'Cake'|\n",
      "+---+-------------------+\n",
      "only showing top 5 rows\n",
      "\n"
     ]
    }
   ],
   "source": [
    "product_data.show(5, False)"
   ]
  },
  {
   "cell_type": "code",
   "execution_count": 25,
   "id": "6f45f1c4",
   "metadata": {},
   "outputs": [],
   "source": [
    "# Remove \" ' \" in column Food_n_Flavor\n",
    "product_data = product_data.select('Id', regexp_replace(col('Food_n_Flavor'),\"'\",\"\").alias('Food_n_Flavor'))"
   ]
  },
  {
   "cell_type": "code",
   "execution_count": 26,
   "id": "f749b8e3",
   "metadata": {},
   "outputs": [
    {
     "name": "stdout",
     "output_type": "stream",
     "text": [
      "+---+---------------+\n",
      "|Id |Food_n_Flavor  |\n",
      "+---+---------------+\n",
      "|0  |Chocolate Cake |\n",
      "|1  |Lemon Cake     |\n",
      "|2  |Casino Cake    |\n",
      "|3  |Opera Cake     |\n",
      "|4  |Strawberry Cake|\n",
      "+---+---------------+\n",
      "only showing top 5 rows\n",
      "\n"
     ]
    }
   ],
   "source": [
    "product_data.show(5, False)"
   ]
  },
  {
   "cell_type": "code",
   "execution_count": 27,
   "id": "ccaf0a6b",
   "metadata": {},
   "outputs": [],
   "source": [
    "# Explode column 'items'\n",
    "data = data.select('order_id', explode(col('items')).alias('product_id'))"
   ]
  },
  {
   "cell_type": "code",
   "execution_count": 28,
   "id": "3bd2ff50",
   "metadata": {},
   "outputs": [
    {
     "name": "stdout",
     "output_type": "stream",
     "text": [
      "+--------+----------+\n",
      "|order_id|product_id|\n",
      "+--------+----------+\n",
      "|       1|         1|\n",
      "|       1|        11|\n",
      "|       1|        21|\n",
      "|       2|         2|\n",
      "|       2|        37|\n",
      "+--------+----------+\n",
      "only showing top 5 rows\n",
      "\n"
     ]
    }
   ],
   "source": [
    "data.show(5)"
   ]
  },
  {
   "cell_type": "code",
   "execution_count": 29,
   "id": "f3ce0fb8",
   "metadata": {},
   "outputs": [],
   "source": [
    "# create sql view 'products' from product_data\n",
    "product_data.createOrReplaceTempView('products')"
   ]
  },
  {
   "cell_type": "code",
   "execution_count": 30,
   "id": "c77ebc8c",
   "metadata": {},
   "outputs": [],
   "source": [
    "# create sql view 'orders' from data\n",
    "data.createOrReplaceTempView('orders')"
   ]
  },
  {
   "cell_type": "code",
   "execution_count": 32,
   "id": "77936b43",
   "metadata": {},
   "outputs": [],
   "source": [
    "# Join 2 views: products, orders by product_id / Id\n",
    "query = 'select p.Id, p.Food_n_Flavor, o.order_id from products p inner join orders o where o.product_id=p.Id'\n",
    "rawData = spark.sql(query)\n",
    "baskets = rawData.groupBy('order_id').agg(collect_set('Food_n_Flavor').alias('Food_n_Flavor'))\n",
    "baskets.createOrReplaceTempView('baskets')"
   ]
  },
  {
   "cell_type": "code",
   "execution_count": 33,
   "id": "504eb7b0",
   "metadata": {},
   "outputs": [
    {
     "name": "stderr",
     "output_type": "stream",
     "text": [
      "[Stage 19:==============>                                           (2 + 6) / 8]\r"
     ]
    },
    {
     "name": "stdout",
     "output_type": "stream",
     "text": [
      "+--------+-------------------------------------------------------------------------------------------------------------------+\n",
      "|order_id|Food_n_Flavor                                                                                                      |\n",
      "+--------+-------------------------------------------------------------------------------------------------------------------+\n",
      "|1       |[Ganache Cookie, Lemon Cake, Apple Pie]                                                                            |\n",
      "|12      |[Almond Twist, Ganache Cookie, Opera Cake, Single Espresso, Casino Cake, Raspberry Lemonade, Apple Pie, Apple Tart]|\n",
      "|22      |[Coffee Eclair, Gongolais Cookie, Blackberry Tart, Single Espresso]                                                |\n",
      "+--------+-------------------------------------------------------------------------------------------------------------------+\n",
      "only showing top 3 rows\n",
      "\n"
     ]
    },
    {
     "name": "stderr",
     "output_type": "stream",
     "text": [
      "\r",
      "                                                                                \r"
     ]
    }
   ],
   "source": [
    "baskets.show(3, False)"
   ]
  },
  {
   "cell_type": "code",
   "execution_count": 34,
   "id": "e602115b",
   "metadata": {},
   "outputs": [
    {
     "name": "stderr",
     "output_type": "stream",
     "text": [
      "                                                                                \r"
     ]
    }
   ],
   "source": [
    "# Build model and fit\n",
    "fpGrowth = FPGrowth(itemsCol='Food_n_Flavor', minSupport=0.03, minConfidence=0.03)\n",
    "model_1 = fpGrowth.fit(baskets)"
   ]
  },
  {
   "cell_type": "code",
   "execution_count": 35,
   "id": "d190eae7",
   "metadata": {},
   "outputs": [
    {
     "name": "stderr",
     "output_type": "stream",
     "text": [
      "[Stage 34:==========================================================(4 + 0) / 4]\r"
     ]
    },
    {
     "name": "stdout",
     "output_type": "stream",
     "text": [
      "+------------------+----+\n",
      "|             items|freq|\n",
      "+------------------+----+\n",
      "|   [Coffee Eclair]|8194|\n",
      "|      [Hot Coffee]|7701|\n",
      "|    [Tuile Cookie]|7557|\n",
      "|     [Cherry Tart]|6988|\n",
      "| [Strawberry Cake]|6949|\n",
      "|  [Apricot Danish]|6944|\n",
      "|    [Orange Juice]|6872|\n",
      "|[Gongolais Cookie]|6784|\n",
      "| [Marzipan Cookie]|6734|\n",
      "|      [Berry Tart]|6363|\n",
      "+------------------+----+\n",
      "only showing top 10 rows\n",
      "\n"
     ]
    },
    {
     "name": "stderr",
     "output_type": "stream",
     "text": [
      "\r",
      "                                                                                \r"
     ]
    }
   ],
   "source": [
    "# Get frequent items\n",
    "model_1.freqItemsets.sort('freq', ascending=False).show(10)"
   ]
  },
  {
   "cell_type": "code",
   "execution_count": 36,
   "id": "428e89a8",
   "metadata": {},
   "outputs": [],
   "source": [
    "# Predictions\n",
    "mostPopularItemInABasket = model_1.transform(baskets)"
   ]
  },
  {
   "cell_type": "code",
   "execution_count": 37,
   "id": "2cbeb42e",
   "metadata": {},
   "outputs": [
    {
     "name": "stdout",
     "output_type": "stream",
     "text": [
      "-RECORD 0----------------------------------------------------------------------------------------------------------------------------\n",
      " order_id      | 1                                                                                                                   \n",
      " Food_n_Flavor | [Ganache Cookie, Lemon Cake, Apple Pie]                                                                             \n",
      " prediction    | [Lemon Tart, Almond Twist, Hot Coffee, Coffee Eclair]                                                               \n",
      "-RECORD 1----------------------------------------------------------------------------------------------------------------------------\n",
      " order_id      | 12                                                                                                                  \n",
      " Food_n_Flavor | [Almond Twist, Ganache Cookie, Opera Cake, Single Espresso, Casino Cake, Raspberry Lemonade, Apple Pie, Apple Tart] \n",
      " prediction    | [Hot Coffee, Coffee Eclair, Chocolate Coffee, Chocolate Cake, Apricot Danish, Cherry Tart]                          \n",
      "-RECORD 2----------------------------------------------------------------------------------------------------------------------------\n",
      " order_id      | 22                                                                                                                  \n",
      " Food_n_Flavor | [Coffee Eclair, Gongolais Cookie, Blackberry Tart, Single Espresso]                                                 \n",
      " prediction    | [Truffle Cake, Almond Twist, Hot Coffee, Apple Pie]                                                                 \n",
      "only showing top 3 rows\n",
      "\n"
     ]
    }
   ],
   "source": [
    "mostPopularItemInABasket.show(3, False, vertical=True)"
   ]
  }
 ],
 "metadata": {
  "colab": {
   "collapsed_sections": [
    "VLpEiR3YIX1h"
   ],
   "name": "Q6_AssociationRules.ipynb",
   "provenance": []
  },
  "kernelspec": {
   "display_name": "Python 3 (ipykernel)",
   "language": "python",
   "name": "python3"
  },
  "language_info": {
   "codemirror_mode": {
    "name": "ipython",
    "version": 3
   },
   "file_extension": ".py",
   "mimetype": "text/x-python",
   "name": "python",
   "nbconvert_exporter": "python",
   "pygments_lexer": "ipython3",
   "version": "3.8.12"
  }
 },
 "nbformat": 4,
 "nbformat_minor": 5
}
